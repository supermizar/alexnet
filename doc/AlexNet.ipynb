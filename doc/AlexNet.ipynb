{
 "cells": [
  {
   "cell_type": "markdown",
   "metadata": {},
   "source": [
    "# Selection question: AlexNet"
   ]
  },
  {
   "cell_type": "markdown",
   "metadata": {},
   "source": [
    "## Implementation and optimization of a convolutional neural network"
   ]
  },
  {
   "cell_type": "markdown",
   "metadata": {},
   "source": [
    "Implement a classic convolutional neural network: AlexNet. **Improve its efficiency as much as possible.** Your work will be evaluated by four aspects: *performance, algorithm design, software architecture and readability.*\n",
    "\n",
    "- Neural network should be implemented by hand, open source arch(Caffe, Tensorflow, Theano, Torch) should not be used directly.\n",
    "- Both inference and train algorithm should be constructed, performance should be well considered either.\n",
    "- Project deadline: 2016-12-25"
   ]
  },
  {
   "cell_type": "markdown",
   "metadata": {},
   "source": [
    "## Getting started"
   ]
  },
  {
   "cell_type": "markdown",
   "metadata": {},
   "source": [
    "To achieve a easy start, I copied some useful code from https://www.zybuluo.com/hanbingtao/note/476663 and https://www.zybuluo.com/hanbingtao/note/485480, including:\n",
    "- class Layer, class Node, class ConstNode, class Connection in fc_layer_hbt.py\n",
    "- class ConvLayer in conv_layer.py\n",
    "\n",
    "With the codes above, now we have the ability to:\n",
    "- Construct a full connection layer instance with class Layer, forward calculation function not included in those classes\n",
    "- Initialize a convolutional layer with class ConvLayer, including backpropagation algorithm and forward computation method\n",
    "\n",
    "To achieve the goal mentioned at beginning, there exists several works to be finished:\n",
    "- Design a network class, composing convolutional layer and full connection layer together. Both train and predict function should be implemented. \n",
    "- Optimize the training and predicting procedure, improve performance of the network. "
   ]
  },
  {
   "cell_type": "markdown",
   "metadata": {},
   "source": [
    "## Software architecture"
   ]
  },
  {
   "cell_type": "markdown",
   "metadata": {},
   "source": [
    "### Inversion of Control"
   ]
  },
  {
   "cell_type": "markdown",
   "metadata": {},
   "source": [
    "Before we design the network class, it might be wise to take a look at **alexnet.py** in tensorflow:"
   ]
  },
  {
   "cell_type": "code",
   "execution_count": null,
   "metadata": {
    "collapsed": true
   },
   "outputs": [],
   "source": [
    "net = slim.conv2d(inputs, 64, [11, 11], 4, padding='VALID',scope='conv1')\n",
    "net = slim.max_pool2d(net, [3, 3], 2, scope='pool1')\n",
    "net = slim.conv2d(net, 192, [5, 5], scope='conv2')\n",
    "net = slim.max_pool2d(net, [3, 3], 2, scope='pool2')\n",
    "net = slim.conv2d(net, 384, [3, 3], scope='conv3')\n",
    "net = slim.conv2d(net, 384, [3, 3], scope='conv4')\n",
    "net = slim.conv2d(net, 256, [3, 3], scope='conv5')\n",
    "net = slim.max_pool2d(net, [3, 3], 2, scope='pool5')"
   ]
  },
  {
   "cell_type": "markdown",
   "metadata": {},
   "source": [
    "Apparently, to make the procedure of network building looks more friendly, principle IoC was applied: instance net is passed to the constructor function of each layer-- my network class will learn from this to take more readability for the code："
   ]
  },
  {
   "cell_type": "code",
   "execution_count": 2,
   "metadata": {
    "collapsed": true
   },
   "outputs": [],
   "source": [
    "class Network(object):\n",
    "    def __init__(self):\n",
    "        self.layers = []\n",
    "\n",
    "    def append_layer(self, layer):\n",
    "        self.layers.append(layer)"
   ]
  },
  {
   "cell_type": "markdown",
   "metadata": {},
   "source": [
    "Member variable **layers** will be initialized to hold layers in the network. Constructor method of layer will invoke the method *append_layer* to append themselves to the network."
   ]
  },
  {
   "cell_type": "markdown",
   "metadata": {},
   "source": [
    "### Training methods"
   ]
  },
  {
   "cell_type": "markdown",
   "metadata": {},
   "source": [
    "As we all know, the training task of a neural network can be divided into three subtasks:\n",
    "- Forward calculation, or model prediction: given input sample, calculate the output vector due to NN model\n",
    "- Backpropagation-1: $\\delta$ calculation of each layer. Acturally, $\\delta_{l}$ is the partial derivative of the loss function $E_{d}$ on the weighted input vector $net_{l}$: $\\delta_{l}=\\frac{\\partial E_{d}}{\\partial net_{l}}$\n",
    "- Backpropagation-2: calculate gradient matrix $\\nabla$ for each layer, then update weight matrix $W$."
   ]
  },
  {
   "cell_type": "code",
   "execution_count": 3,
   "metadata": {
    "collapsed": true
   },
   "outputs": [],
   "source": [
    "def train_one_sample(self, label, sample, rate):\n",
    "        \"\"\"\n",
    "        train network with one sample\n",
    "        \"\"\"\n",
    "        self.predict(sample)\n",
    "        self.calc_delta(label)\n",
    "        self.update_weight(rate)\n",
    "\n",
    "    def calc_delta(self, label):\n",
    "        \"\"\"\n",
    "        calc delta of each layer\n",
    "        \"\"\"\n",
    "        output_layer = self.layers[-1]\n",
    "        output_layer.calc_output_layer_delta(label)\n",
    "        downstream_layer = output_layer\n",
    "        for layer in self.layers[-2::-1]:\n",
    "            layer.calc_layer_delta(downstream_layer)\n",
    "            downstream_layer = layer\n",
    "\n",
    "    def update_weight(self, rate):\n",
    "        \"\"\"\n",
    "        update weights of each connection or filter\n",
    "        \"\"\"\n",
    "        for layer in self.layers:\n",
    "            layer.update_weight(rate)\n",
    "    def predict(self, sample):\n",
    "        \"\"\"\n",
    "        predict output according to input\n",
    "        \"\"\"\n",
    "        self.layers[0].forward(sample)\n",
    "        for i in range(1, len(self.layers)):\n",
    "            self.layers[i].forward(self.layers[i-1].get_output())\n",
    "        return self.layers[-1].get_output()"
   ]
  },
  {
   "cell_type": "markdown",
   "metadata": {},
   "source": [
    "Obviously, some interface method should be implemented in each layer class: *forward*, *calc_layer_delta*, *update_weight*."
   ]
  },
  {
   "cell_type": "markdown",
   "metadata": {},
   "source": [
    "### Redesign of full connection layer"
   ]
  },
  {
   "cell_type": "markdown",
   "metadata": {},
   "source": [
    "I need to redesign the full connection layer class, for those reasons:\n",
    "- Full connect layers implemented with Node and Connection objects will encounter a great problem when docking with convolutional layer copied from hanbingtao.\n",
    "- Layers with large amount of nodes takes large memory storing their Node and Connection objects, besides,  disastrous efficiency problem will be caused when executing the backpropagation algorithm.\n",
    "\n",
    "To take advantage of numpy's matrix calculation ability, I will implement methods in fc layer using matrix operation."
   ]
  },
  {
   "cell_type": "markdown",
   "metadata": {},
   "source": []
  },
  {
   "cell_type": "code",
   "execution_count": 1,
   "metadata": {
    "collapsed": true
   },
   "outputs": [],
   "source": [
    "import numpy as np\n",
    "\n",
    "class FcLayer(object):\n",
    "    def __init__(self, network, node_count, activator):\n",
    "        self.output_array = np.zeros([node_count])\n",
    "        self.bias_array = np.zeros([node_count])\n",
    "        self.input_shape = network.layers[-1].get_output().shape\n",
    "        self.input_1dim = reduce(lambda ret, dim: ret * dim, self.input_shape, 1)\n",
    "        self.trans_matrix = np.zeros([node_count, self.input_1dim])\n",
    "        self.activator = activator\n",
    "        network.append_layer(self)"
   ]
  },
  {
   "cell_type": "code",
   "execution_count": null,
   "metadata": {
    "collapsed": true
   },
   "outputs": [],
   "source": [
    ""
   ]
  },
  {
   "cell_type": "code",
   "execution_count": null,
   "metadata": {
    "collapsed": true
   },
   "outputs": [],
   "source": [
    "def forward(self, input_array):\n",
    "        self.input_array = input_array.reshape(self.input_1dim)\n",
    "        self.output_array = np.dot(self.trans_matrix, self.input_array) + self.bias_array\n",
    "        self.output_array = np.array([self.activator.forward(value) for value in self.output_array])"
   ]
  },
  {
   "cell_type": "code",
   "execution_count": null,
   "metadata": {
    "collapsed": true
   },
   "outputs": [],
   "source": [
    ""
   ]
  },
  {
   "cell_type": "code",
   "execution_count": null,
   "metadata": {
    "collapsed": true
   },
   "outputs": [],
   "source": [
    "def calc_output_layer_delta(self, label):\n",
    "        derivative = np.array([self.activator.backward(out) for out in self.output_array])\n",
    "        self.delta_array = derivative * (label - self.output_array)\n",
    "\n",
    "    def calc_layer_delta(self, downstream_layer):\n",
    "        derivative = np.array([self.activator.backward(out) for out in self.output_array])\n",
    "        self.delta_array = derivative * downstream_layer.get_transformed_delta()"
   ]
  },
  {
   "cell_type": "code",
   "execution_count": null,
   "metadata": {
    "collapsed": true
   },
   "outputs": [],
   "source": [
    ""
   ]
  },
  {
   "cell_type": "code",
   "execution_count": null,
   "metadata": {
    "collapsed": true
   },
   "outputs": [],
   "source": [
    "def update_weight(self, rate):\n",
    "        self.trans_matrix += rate * np.dot(self.delta_array.reshape([len(self.delta_array),1]),self.input_array.reshape([1, self.input_1dim]))\n",
    "        self.bias_array += rate * self.delta_array"
   ]
  },
  {
   "cell_type": "markdown",
   "metadata": {},
   "source": []
  },
  {
   "cell_type": "code",
   "execution_count": null,
   "metadata": {
    "collapsed": true
   },
   "outputs": [],
   "source": [
    ""
   ]
  },
  {
   "cell_type": "code",
   "execution_count": null,
   "metadata": {
    "collapsed": true
   },
   "outputs": [],
   "source": [
    ""
   ]
  },
  {
   "cell_type": "markdown",
   "metadata": {},
   "source": [
    "## Performance"
   ]
  },
  {
   "cell_type": "code",
   "execution_count": null,
   "metadata": {
    "collapsed": true
   },
   "outputs": [],
   "source": [
    ""
   ]
  },
  {
   "cell_type": "code",
   "execution_count": null,
   "metadata": {
    "collapsed": true
   },
   "outputs": [],
   "source": [
    ""
   ]
  },
  {
   "cell_type": "markdown",
   "metadata": {},
   "source": [
    "## Performance"
   ]
  }
 ],
 "metadata": {
  "anaconda-cloud": {},
  "kernelspec": {
   "display_name": "Python [default]",
   "language": "python",
   "name": "python3"
  },
  "language_info": {
   "codemirror_mode": {
    "name": "ipython",
    "version": 3.0
   },
   "file_extension": ".py",
   "mimetype": "text/x-python",
   "name": "python",
   "nbconvert_exporter": "python",
   "pygments_lexer": "ipython3",
   "version": "3.5.2"
  }
 },
 "nbformat": 4,
 "nbformat_minor": 0
}