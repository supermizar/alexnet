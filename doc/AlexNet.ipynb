{
 "cells": [
  {
   "cell_type": "markdown",
   "metadata": {},
   "source": [
    "# Selection question: AlexNet"
   ]
  },
  {
   "cell_type": "markdown",
   "metadata": {},
   "source": [
    "## Implementation and optimization of a convolutional neural network"
   ]
  },
  {
   "cell_type": "markdown",
   "metadata": {},
   "source": [
    "Implement a classic convolutional neural network: AlexNet. **Improve its efficiency as much as possible.** Your work will be evaluated by four aspects: *performance, algorithm design, software architecture and readability.*\n",
    "\n",
    "- Neural network should be implemented by hand, open source arch(Caffe, Tensorflow, Theano, Torch) should not be used directly.\n",
    "- Both inference and train algorithm should be constructed, performance should be well considered either.\n",
    "- Project deadline: 2016-12-25"
   ]
  },
  {
   "cell_type": "markdown",
   "metadata": {},
   "source": [
    "## Getting started"
   ]
  },
  {
   "cell_type": "markdown",
   "metadata": {},
   "source": [
    "To achieve a easy start, I copied some useful code from [[1]](https://www.zybuluo.com/hanbingtao/note/476663) and [[2]](https://www.zybuluo.com/hanbingtao/note/485480), including:\n",
    "- class Layer, class Node, class ConstNode, class Connection in fc_layer_hbt.py\n",
    "- class ConvLayer in conv_layer.py\n",
    "\n",
    "With the codes above, now we have the ability to:\n",
    "- Construct a fully-connected layer instance with class Layer, forward calculation function not included in those classes\n",
    "- Initialize a convolutional layer with class ConvLayer, including backpropagation algorithm and forward computation method\n",
    "\n",
    "To achieve the goal mentioned at beginning, there exists several works to be finished:\n",
    "- Design a network class, composing convolutional layer and fully-connected layer together. Both train and predict function should be implemented. \n",
    "- Optimize the training and predicting procedure, improve performance of the network. "
   ]
  },
  {
   "cell_type": "markdown",
   "metadata": {},
   "source": [
    "## Software architecture"
   ]
  },
  {
   "cell_type": "markdown",
   "metadata": {},
   "source": [
    "### Inversion of Control"
   ]
  },
  {
   "cell_type": "markdown",
   "metadata": {},
   "source": [
    "Before we design the network class, it might be wise to take a look at **alexnet.py** in tensorflow:"
   ]
  },
  {
   "cell_type": "code",
   "execution_count": null,
   "metadata": {
    "collapsed": true
   },
   "outputs": [],
   "source": [
    "net = slim.conv2d(inputs, 64, [11, 11], 4, padding='VALID',scope='conv1')\n",
    "net = slim.max_pool2d(net, [3, 3], 2, scope='pool1')\n",
    "net = slim.conv2d(net, 192, [5, 5], scope='conv2')\n",
    "net = slim.max_pool2d(net, [3, 3], 2, scope='pool2')\n",
    "net = slim.conv2d(net, 384, [3, 3], scope='conv3')\n",
    "net = slim.conv2d(net, 384, [3, 3], scope='conv4')\n",
    "net = slim.conv2d(net, 256, [3, 3], scope='conv5')\n",
    "net = slim.max_pool2d(net, [3, 3], 2, scope='pool5')"
   ]
  },
  {
   "cell_type": "markdown",
   "metadata": {},
   "source": [
    "Apparently, to make the procedure of network building looks more friendly, principle IoC was applied: instance net is passed to the constructor function of each layer-- my network class will learn from this to take more readability for the code:"
   ]
  },
  {
   "cell_type": "code",
   "execution_count": 1,
   "metadata": {
    "collapsed": true
   },
   "outputs": [],
   "source": [
    "class Network(object):\n",
    "    def __init__(self):\n",
    "        self.layers = []\n",
    "\n",
    "    def append_layer(self, layer):\n",
    "        self.layers.append(layer)"
   ]
  },
  {
   "cell_type": "markdown",
   "metadata": {},
   "source": [
    "Member variable **layers** will be initialized to hold layers in the network. Constructor method of layer will invoke the method *append_layer* to append themselves to the network."
   ]
  },
  {
   "cell_type": "markdown",
   "metadata": {},
   "source": [
    "### Training methods"
   ]
  },
  {
   "cell_type": "markdown",
   "metadata": {},
   "source": [
    "As we all know, the training task of a neural network can be divided into three subtasks:\n",
    "- Forward calculation, or model prediction: given input sample, calculate the output vector due to NN model\n",
    "- Backpropagation-1: $\\delta$ calculation of each layer. Acturally, $\\delta_{l}$ is the partial derivative of the loss function $E_{d}$ on the weighted input vector $net_{l}$: $$\\delta_{l}=\\frac{\\partial E_{d}}{\\partial net_{l}}$$\n",
    "- Backpropagation-2: calculate gradient matrix $\\nabla$ for each layer, then update weight matrix $W$."
   ]
  },
  {
   "cell_type": "code",
   "execution_count": 3,
   "metadata": {
    "collapsed": true
   },
   "outputs": [],
   "source": [
    "def train_one_sample(self, label, sample, rate):\n",
    "        \"\"\"\n",
    "        train network with one sample\n",
    "        \"\"\"\n",
    "        self.predict(sample)\n",
    "        self.calc_delta(label)\n",
    "        self.update_weight(rate)\n",
    "\n",
    "    def calc_delta(self, label):\n",
    "        \"\"\"\n",
    "        calc delta of each layer\n",
    "        \"\"\"\n",
    "        output_layer = self.layers[-1]\n",
    "        output_layer.calc_output_layer_delta(label)\n",
    "        downstream_layer = output_layer\n",
    "        for layer in self.layers[-2::-1]:\n",
    "            layer.calc_layer_delta(downstream_layer)\n",
    "            downstream_layer = layer\n",
    "\n",
    "    def update_weight(self, rate):\n",
    "        \"\"\"\n",
    "        update weights of each connection or filter\n",
    "        \"\"\"\n",
    "        for layer in self.layers:\n",
    "            layer.update_weight(rate)\n",
    "    def predict(self, sample):\n",
    "        \"\"\"\n",
    "        predict output according to input\n",
    "        \"\"\"\n",
    "        self.layers[0].forward(sample)\n",
    "        for i in range(1, len(self.layers)):\n",
    "            self.layers[i].forward(self.layers[i-1].get_output())\n",
    "        return self.layers[-1].get_output()"
   ]
  },
  {
   "cell_type": "markdown",
   "metadata": {},
   "source": [
    "Obviously, some interface method should be implemented in each layer class: *forward*, *calc_layer_delta*, *update_weight*."
   ]
  },
  {
   "cell_type": "markdown",
   "metadata": {},
   "source": [
    "### Redesign of fully-connected layer"
   ]
  },
  {
   "cell_type": "markdown",
   "metadata": {},
   "source": [
    "I need to redesign the fully-connected layer class, for those reasons:\n",
    "- Fully-connected layers implemented with Node and Connection objects will encounter a great problem when docking with convolutional layer copied from hanbingtao.\n",
    "- Layers with large amount of nodes takes large memory storing their Node and Connection objects. Besides,  I'm afraid that efficiency problem will be caused when executing large-scale NN backpropagation algorithm with codes we have.\n",
    "\n",
    "To take advantage of numpy's matrix calculation ability, I will implement methods in fc layer using matrix operation."
   ]
  },
  {
   "cell_type": "code",
   "execution_count": 1,
   "metadata": {
    "collapsed": true
   },
   "outputs": [],
   "source": [
    "import numpy as np\n",
    "\n",
    "class FcLayer(object):\n",
    "    def __init__(self, network, node_count, activator):\n",
    "        self.output_array = np.zeros([node_count])\n",
    "        self.bias_array = np.zeros([node_count])\n",
    "        input_shape = network.layers[-1].get_output().shape\n",
    "        self.input_1dim = reduce(lambda ret, dim: ret * dim, input_shape, 1)\n",
    "        self.trans_matrix = np.random.uniform(0.1, 0.3, [node_count, self.input_1dim])\n",
    "        self.activator = activator\n",
    "        network.append_layer(self)"
   ]
  },
  {
   "cell_type": "markdown",
   "metadata": {
    "collapsed": true
   },
   "source": [
    "- *output_array*: output vector of a fc layer\n",
    "- *bias_array*: bias unit(or bias vector) of current layer\n",
    "- *input_1dim*: total number of the input(1D,2D,3D), useful for adapt convolutional layer's output to fully-connected layer's input\n",
    "- *trans_matrix*: transform matrix used to transform input array into output array\n",
    "- *activator*: activator function for output, ReLU was chosen in alexnet."
   ]
  },
  {
   "cell_type": "markdown",
   "metadata": {},
   "source": [
    "Let $W$ represent transform matrix, $\\vec x$ as input vector, $\\vec b$ as bias unit, $\\vec a$ as output vector, $f$ as activator function:"
   ]
  },
  {
   "cell_type": "markdown",
   "metadata": {},
   "source": [
    "$$\n",
    "W=\\left[\n",
    "\\begin{matrix}\n",
    " w_{11}      & w_{12}      & \\cdots & w_{1m}      \\\\\n",
    " w_{21}      & w_{22}      & \\cdots & w_{2m}      \\\\\n",
    " \\vdots & \\vdots & \\ddots & \\vdots \\\\\n",
    " w_{n1}      & w_{n2}      & \\cdots & w_{nm}      \\\\\n",
    "\\end{matrix}\n",
    "\\right]\n",
    ",\\quad \\vec x=\\left[\n",
    "\\begin{matrix}\n",
    " x_{1}      \\\\\n",
    " x_{2}      \\\\\n",
    " \\vdots \\\\\n",
    " x_{m}      \\\\\n",
    "\\end{matrix}\n",
    "\\right]\n",
    ",\\quad \\vec b=\\left[\n",
    "\\begin{matrix}\n",
    " b_{1}      \\\\\n",
    " b_{2}      \\\\\n",
    " \\vdots \\\\\n",
    " b_{n}      \\\\\n",
    "\\end{matrix}\n",
    "\\right]\n",
    ",\\quad \\vec a=\\left[\n",
    "\\begin{matrix}\n",
    " a_{1}      \\\\\n",
    " a_{2}      \\\\\n",
    " \\vdots \\\\\n",
    " a_{n}      \\\\\n",
    "\\end{matrix}\n",
    "\\right]\n",
    ",\\quad f(\n",
    "\\left[\n",
    "\\begin{matrix}\n",
    " x_{1}      \\\\\n",
    " x_{2}      \\\\\n",
    " \\vdots \\\\\n",
    " x_{n}      \\\\\n",
    "\\end{matrix}\n",
    "\\right]\n",
    ")=\\left[\n",
    "\\begin{matrix}\n",
    " f(x_{1})      \\\\\n",
    " f(x_{2})      \\\\\n",
    " \\vdots \\\\\n",
    " f(x_{n})      \\\\\n",
    "\\end{matrix}\n",
    "\\right]\n",
    "$$"
   ]
  },
  {
   "cell_type": "markdown",
   "metadata": {},
   "source": [
    "We will get equation like:\n",
    "$$\\vec a=f(W \\cdot \\vec x + \\vec b)$$"
   ]
  },
  {
   "cell_type": "markdown",
   "metadata": {},
   "source": [
    "Then the fully-connected layer's prediction procedure should be implemented as:"
   ]
  },
  {
   "cell_type": "code",
   "execution_count": null,
   "metadata": {
    "collapsed": true
   },
   "outputs": [],
   "source": [
    "def forward(self, input_array):\n",
    "        self.input_array = input_array.reshape(self.input_1dim)\n",
    "        self.output_array = np.dot(self.trans_matrix, self.input_array) + self.bias_array\n",
    "        self.output_array = np.array([self.activator.forward(value) for value in self.output_array])"
   ]
  },
  {
   "cell_type": "markdown",
   "metadata": {
    "collapsed": true
   },
   "source": [
    "The reason reshaping the input array is, it's neccessary to adapt input array to 1-D when accepting 3D-input from convolutional layer. \n",
    "\n",
    "There exist two cases to be considered when calculating $\\delta$ of each layer: $\\delta$ of output layer and non-output layer: "
   ]
  },
  {
   "cell_type": "markdown",
   "metadata": {},
   "source": [
    "$$\\vec \\delta_{output}=\\vec y'*(\\vec t-\\vec y)$$\n",
    "$$\\vec \\delta_{non-output}=\\vec a'*(W_{downstream}^{T}\\cdot \\vec \\delta_{downstream})$$"
   ]
  },
  {
   "cell_type": "markdown",
   "metadata": {},
   "source": [
    "Methods implement:"
   ]
  },
  {
   "cell_type": "code",
   "execution_count": null,
   "metadata": {
    "collapsed": true
   },
   "outputs": [],
   "source": [
    "def calc_output_layer_delta(self, label):\n",
    "        derivative = np.array([self.activator.backward(out) for out in self.output_array])\n",
    "        self.delta_array = derivative * (label - self.output_array)\n",
    "\n",
    "def calc_layer_delta(self, downstream_layer):\n",
    "        derivative = np.array([self.activator.backward(out) for out in self.output_array])\n",
    "        self.delta_array = derivative * downstream_layer.get_transformed_delta()\n",
    "def get_transformed_delta(self):\n",
    "        return np.dot(self.trans_matrix.transpose(), self.delta_array)"
   ]
  },
  {
   "cell_type": "markdown",
   "metadata": {
    "collapsed": true
   },
   "source": [
    "Next we can update transform matrix and bias vector of each layer with equations: "
   ]
  },
  {
   "cell_type": "markdown",
   "metadata": {},
   "source": [
    "$$W\\leftarrow W + \\eta*\\vec \\delta \\cdot \\vec x^{T}$$\n",
    "$$\\vec b \\leftarrow \\vec b + \\eta * \\vec \\delta$$"
   ]
  },
  {
   "cell_type": "markdown",
   "metadata": {},
   "source": [
    "Methods implement:"
   ]
  },
  {
   "cell_type": "code",
   "execution_count": 1,
   "metadata": {
    "collapsed": true
   },
   "outputs": [],
   "source": [
    "def update_weight(self, rate):\n",
    "        self.trans_matrix += rate * np.dot(self.delta_array.reshape([len(self.delta_array),1]),\\\n",
    "                                           self.input_array.reshape([1, self.input_1dim]))\n",
    "        self.bias_array += rate * self.delta_array"
   ]
  },
  {
   "cell_type": "markdown",
   "metadata": {},
   "source": [
    "For now, my new fully-connected layer class has got the ability to finish a complete training procedure. "
   ]
  },
  {
   "cell_type": "markdown",
   "metadata": {
    "collapsed": true
   },
   "source": [
    "### Supplement of convolutional layer class"
   ]
  },
  {
   "cell_type": "markdown",
   "metadata": {
    "collapsed": true
   },
   "source": [
    "With some little adjustment and supplement, code in conv_layer.py(copied from [[2]](https://www.zybuluo.com/hanbingtao/note/485480)) should dock well with fully-connected layer class above.\n",
    "\n",
    "First we need to implement a missed method called *get_patch*, which will return a specified slice from given 2D or 3D array:"
   ]
  },
  {
   "cell_type": "code",
   "execution_count": null,
   "metadata": {
    "collapsed": true
   },
   "outputs": [],
   "source": [
    "def get_patch(input_array, i, j, kernel_width, kernel_height, stride):\n",
    "    if len(input_array.shape) > 2:\n",
    "        return input_array[:, i*stride:i*stride+kernel_width, j*stride:j*stride+kernel_height]\n",
    "    return input_array[i*stride:i*stride+kernel_width, j*stride:j*stride+kernel_height]"
   ]
  },
  {
   "cell_type": "markdown",
   "metadata": {},
   "source": [
    "For the purpose of fitting with *network.py*, two interface method should be implemented(*forward* already prepared): *calc_layer_delta*, *update_weight*:"
   ]
  },
  {
   "cell_type": "code",
   "execution_count": 2,
   "metadata": {
    "collapsed": true
   },
   "outputs": [],
   "source": [
    "def calc_layer_delta(self, downstream_layer):\n",
    "    downstream_delta = downstream_layer.get_transformed_delta().reshape(self.output_array.shape)\n",
    "    self.bp_sensitivity_map(downstream_delta, self.activator)\n",
    "\n",
    "def update_weight(self, rate):\n",
    "    self.learning_rate = rate\n",
    "    self.bp_gradient(self.current_layer_delta_array)\n",
    "    self.update()"
   ]
  },
  {
   "cell_type": "markdown",
   "metadata": {},
   "source": [
    "### Constructor improvement"
   ]
  },
  {
   "cell_type": "markdown",
   "metadata": {},
   "source": [
    "Obviously, it seems a bit foolish to give the input size every time create a new convolutional layer--- we can get the input size from previous layer's output except first layer. We may create a class inherit from convolutional layer:"
   ]
  },
  {
   "cell_type": "code",
   "execution_count": null,
   "metadata": {
    "collapsed": true
   },
   "outputs": [],
   "source": [
    "class ConvLayerHidden(ConvLayer):\n",
    "    def __init__(self, network, filter_width,\n",
    "                 filter_height, filter_number,\n",
    "                 zero_padding, stride, activator,\n",
    "                 learning_rate):\n",
    "        upstream_layer = network.layers[-1]\n",
    "        input_width = upstream_layer.get_output().shape[1]\n",
    "        input_height = upstream_layer.get_output().shape[2]\n",
    "        channel_number = upstream_layer.get_output().shape[0]\n",
    "        ConvLayer.__init__(self, network, input_width, input_height,\n",
    "                           channel_number, filter_width,\n",
    "                           filter_height, filter_number,\n",
    "                           zero_padding, stride, activator,\n",
    "                           learning_rate)"
   ]
  },
  {
   "cell_type": "markdown",
   "metadata": {},
   "source": [
    "Then the procedure of creating network should act like:"
   ]
  },
  {
   "cell_type": "code",
   "execution_count": null,
   "metadata": {
    "collapsed": true
   },
   "outputs": [],
   "source": [
    "net = Network()\n",
    "    ConvLayer(net, 50, 50, 3, 11, 11, 48, 2, 4, Relu(), 0.05)\n",
    "    ConvLayerHidden(net, 3, 3, 24, 2, 3, Relu(), 0.05)\n",
    "    FcLayer(net, 5, Relu())\n",
    "    FcLayer(net, 10, Relu())"
   ]
  },
  {
   "cell_type": "markdown",
   "metadata": {},
   "source": [
    "### Dropout layer"
   ]
  },
  {
   "cell_type": "markdown",
   "metadata": {},
   "source": [
    "To prevent overfitting, **dropout layer** was applied before fully-connected layer or softmax layer in alexnet. Without dropout layer, fully-connected layer will act like:"
   ]
  },
  {
   "cell_type": "markdown",
   "metadata": {},
   "source": [
    "$$\\vec a=W \\cdot \\vec x + \\vec b$$"
   ]
  },
  {
   "cell_type": "markdown",
   "metadata": {},
   "source": [
    "where $\\vec x$ represents input of layer and $\\vec a$ represents output. When dropout been applied, equation will act like:"
   ]
  },
  {
   "cell_type": "markdown",
   "metadata": {},
   "source": [
    "$$\\vec r = Bernoulli(prob)$$\n",
    "$$\\widetilde x = \\vec r * \\vec x$$\n",
    "$$\\vec a=W \\cdot \\widetilde x + \\vec b$$\n"
   ]
  },
  {
   "cell_type": "markdown",
   "metadata": {},
   "source": [
    "Thus, implementation of dropout layer will be:"
   ]
  },
  {
   "cell_type": "code",
   "execution_count": null,
   "metadata": {
    "collapsed": true
   },
   "outputs": [],
   "source": [
    "    def __init__(self, network, dropout_prob=0.5):\n",
    "        self.dropout_prob = dropout_prob\n",
    "        input_array = network.layers[-1].get_output()\n",
    "        self.output_array = np.zeros(input_array.shape)\n",
    "        network.append_layer(self)\n",
    "\n",
    "    def forward(self, input_array, training=False):\n",
    "        if training:\n",
    "            retain_prob = 1. - self.dropout_prob\n",
    "            self.dropout_array = np.random.binomial(1, retain_prob, size=input_array.shape)\n",
    "            self.output_array = input_array * self.dropout_array / retain_prob\n",
    "        else:\n",
    "            self.output_array = input_array / self.dropout_prob\n",
    "\n",
    "    def get_output(self):\n",
    "        return self.output_array\n",
    "\n",
    "    def calc_layer_delta(self, downstream_layer):\n",
    "        self.delta_array = downstream_layer.get_transformed_delta() * self.dropout_array"
   ]
  },
  {
   "cell_type": "markdown",
   "metadata": {},
   "source": [
    "### Softmax layer"
   ]
  },
  {
   "cell_type": "markdown",
   "metadata": {},
   "source": [
    "Equation of softmax function is:"
   ]
  },
  {
   "cell_type": "markdown",
   "metadata": {},
   "source": [
    "$$a_{j}^{L}=\\frac{e^{z_{j}^{l}}}{\\sum_{k}e^{z_{k}^{l}}}$$"
   ]
  },
  {
   "cell_type": "markdown",
   "metadata": {},
   "source": [
    "where $z_{j}^{l}$ represents the weighted input of neuron $j$ in layer $l$, $a_{j}^{L}$ represent the output of neuron $j$ in layer $l$. To get partial derivative $\\frac{\\partial a_{j}}{\\partial z_{i}}$, two cases should be considered:"
   ]
  },
  {
   "cell_type": "markdown",
   "metadata": {},
   "source": [
    "if $j=i:$\n",
    "$$\\frac{\\partial a_{j}}{\\partial z_{i}}=\\frac{\\partial}{\\partial z_{i}}(\\frac{e^{z_{j}}}{\\sum_{k}e^{z_{k}}})=\\frac{(e^{z_{j}})' \\cdot \\sum_{k}e^{z_{k}} - e^{z_{j}} \\cdot e^{z_{j}}}{(\\sum_{k}e^{z_{k}})^{2}}=\\frac{e^{z_{j}}}{\\sum_{k}e^{z_{k}}}-\\frac{e^{z_{j}}}{\\sum_{k}e^{z_{k}}} \\cdot \\frac{e^{z_{j}}}{\\sum_{k}e^{z_{k}}}=a_{j}(1-a_{j})$$\n",
    "if $j \\neq i:$\n",
    "$$\\frac{\\partial a_{j}}{\\partial z_{i}}=\\frac{\\partial}{\\partial z_{i}}(\\frac{e^{z_{j}}}{\\sum_{k}e^{z_{k}}})=\\frac{0 \\cdot \\sum_{k}e^{z_{k}} - e^{z_{j}} \\cdot e^{z_{i}}}{(\\sum_{k}e^{z_{k}})^{2}}=-\\frac{e^{z_{j}}}{\\sum_{k}e^{z_{k}}} \\cdot \\frac{e^{z_{i}}}{\\sum_{k}e^{z_{k}}}=-a_{j}a_{i}$$"
   ]
  },
  {
   "cell_type": "markdown",
   "metadata": {},
   "source": [
    "Instead of cross entropy loss, I use logistic as the cost function below.:"
   ]
  },
  {
   "cell_type": "markdown",
   "metadata": {},
   "source": [
    "$$C=- \\sum_{k}y_{k}\\log a_{k}$$"
   ]
  },
  {
   "cell_type": "markdown",
   "metadata": {},
   "source": [
    "Compared with cross entropy loss, this will work either, and the most important reason I choose that is: the ultimate format of $\\delta$ looks much more simple:"
   ]
  },
  {
   "cell_type": "markdown",
   "metadata": {},
   "source": [
    "$$\\frac{\\partial C}{\\partial b_{j}}=\\frac{\\partial C}{\\partial z_{j}} \\cdot \\frac{\\partial z_{j}}{\\partial b_{j}}=\\frac{\\partial C}{\\partial z_{j}} \\cdot \\frac{\\partial (w_{jk}a_{k}+b_{j})}{\\partial b_{j}}=\\frac{\\partial}{\\partial z_{j}}(-\\sum_{k} y_{k} \\log a_{k})=-y_{j} \\frac{1}{a_{j}} \\cdot \\frac{\\partial a_{j}}{\\partial z_{j}}-\\sum_{k \\neq j}y_{k} \\frac{1}{a_{k}} \\cdot \\frac{\\partial a_{k}}{\\partial z_{j}}=-y_{j} \\frac{1}{a_{j}} \\cdot a_{j}(1-a_{j})-\\sum_{k \\neq j}y_{k} \\frac{1}{a_{k}} \\cdot (-a_{j}a_{k})=-y_{j}+y_{j}a_{j}+\\sum_{k \\neq j}y_{k}a_{j}=-y_{j}+a_{j}\\sum_{k}y_{k}=a_{j}-y_{j}$$\n",
    "$$\\frac{\\partial C}{\\partial w_{jk}}=a_{k}^{L-1}(a_{j}^{L}-y_{j})$$"
   ]
  },
  {
   "cell_type": "markdown",
   "metadata": {},
   "source": [
    "Code lists below:"
   ]
  },
  {
   "cell_type": "code",
   "execution_count": null,
   "metadata": {
    "collapsed": true
   },
   "outputs": [],
   "source": [
    "class SoftmaxLayer(FcLayer):\n",
    "\n",
    "    def __init__(self, network, node_count):\n",
    "        FcLayer.__init__(self, network, node_count, Softmax())\n",
    "\n",
    "    def forward(self, input_array, training=False):\n",
    "        self.input_array = input_array.reshape(self.input_1dim)\n",
    "        self.output_array = np.dot(self.trans_matrix, self.input_array) + self.bias_array\n",
    "        self.output_array = self.activator.forward(self.output_array)\n",
    "\n",
    "    def calc_output_layer_delta(self, label):\n",
    "        self.delta_array = self.output_array - label\n",
    "\n",
    "    def update_weight(self, rate):\n",
    "        self.trans_matrix -= rate * np.dot(self.delta_array.reshape([len(self.delta_array),1]),self.input_array.reshape([1, self.input_1dim]))\n",
    "        self.bias_array -= rate * self.delta_array"
   ]
  },
  {
   "cell_type": "markdown",
   "metadata": {},
   "source": [
    "### Max pooling layer"
   ]
  },
  {
   "cell_type": "markdown",
   "metadata": {},
   "source": [
    "Compared with fully-connected layer and convolutional layer, max-pooling layer is much more easier to be realized. Here I copied the code of max pooling layer from [[2]](https://www.zybuluo.com/hanbingtao/note/485480), then implement some interface methods:"
   ]
  },
  {
   "cell_type": "code",
   "execution_count": null,
   "metadata": {
    "collapsed": true
   },
   "outputs": [],
   "source": [
    "def get_output(self):\n",
    "    return self.output_array\n",
    "\n",
    "def get_transformed_delta(self):\n",
    "    return self.delta_array\n",
    "\n",
    "def update_weight(self, rate):\n",
    "    pass"
   ]
  },
  {
   "cell_type": "markdown",
   "metadata": {},
   "source": [
    "Some adjustment need to be made to method *backward*:"
   ]
  },
  {
   "cell_type": "code",
   "execution_count": null,
   "metadata": {
    "collapsed": true
   },
   "outputs": [],
   "source": [
    "def calc_layer_delta(self, downstream_layer):\n",
    "        self.delta_array = np.zeros(self.input_array.shape)\n",
    "        sensitivity_array = downstream_layer.get_transformed_delta().reshape(self.output_array.shape)\n",
    "        for d in range(self.channel_number):\n",
    "            for i in range(self.output_height):\n",
    "                for j in range(self.output_width):\n",
    "                    patch_array = get_patch(\n",
    "                        self.input_array[d], i, j,\n",
    "                        self.filter_width,\n",
    "                        self.filter_height,\n",
    "                        self.stride)\n",
    "                    k, l = get_max_index(patch_array)\n",
    "                    self.delta_array[d,\n",
    "                                     i * self.stride + k,\n",
    "                                     j * self.stride + l] = \\\n",
    "                        sensitivity_array[d, i, j]"
   ]
  },
  {
   "cell_type": "markdown",
   "metadata": {},
   "source": [
    "### Local response normalization layer"
   ]
  },
  {
   "cell_type": "markdown",
   "metadata": {},
   "source": []
  },
  {
   "cell_type": "markdown",
   "metadata": {},
   "source": [
    "### A simple dock test"
   ]
  },
  {
   "cell_type": "code",
   "execution_count": 4,
   "metadata": {
    "collapsed": false
   },
   "outputs": [
    {
     "name": "stdout",
     "output_type": "stream",
     "text": [
      "***Predict result based on alexnet model***\n",
      "[0.10000000244423332, 0.09999999910022621, 0.09999999901204651, 0.10000000165810077, 0.10000000089441938, 0.09999999799728718, 0.10000000082598134, 0.0999999983051714, 0.09999999783475738, 0.10000000192777651]\n",
      "Training with one sample started\n",
      "   Procedure predict started\n",
      "      Forward calculation of layer 1 finished, time cost(s): 0.011733\n",
      "      Forward calculation of layer 2 finished, time cost(s): 0.000757\n",
      "      Forward calculation of layer 3 finished, time cost(s): 0.000913\n",
      "      Forward calculation of layer 4 finished, time cost(s): 4.69999999999e-05\n",
      "      Forward calculation of layer 5 finished, time cost(s): 2.59999999996e-05\n",
      "      Forward calculation of layer 6 finished, time cost(s): 2.99999999998e-05\n",
      "   Procedure predict finished, time cost(s):0.013675\n",
      "   Procedure delta calculation started\n",
      "      Delta calculation of layer 6 finished, time cost(s): 1.00000000001e-05\n",
      "      Delta calculation of layer 5 finished, time cost(s): 1.00000000001e-05\n",
      "      Delta calculation of layer 4 finished, time cost(s): 1.6e-05\n",
      "      Delta calculation of layer 3 finished, time cost(s): 0.00131\n",
      "      Delta calculation of layer 2 finished, time cost(s): 0.001009\n",
      "      Delta calculation of layer 1 finished, time cost(s): 0.439048\n",
      "   Procedure delta calculation finished, time cost(s):0.441592\n",
      "   Procedure weight update started\n",
      "      Weight update of layer 1 finished, time cost(s): 0.091568\n",
      "      Weight update of layer 2 finished, time cost(s): 1.99999999939e-06\n",
      "      Weight update of layer 3 finished, time cost(s): 1.00000000014e-06\n",
      "      Weight update of layer 4 finished, time cost(s): 2.39999999998e-05\n",
      "      Weight update of layer 5 finished, time cost(s): 1.99999999939e-06\n",
      "      Weight update of layer 6 finished, time cost(s): 1.09999999998e-05\n",
      "   Procedure weight update finished, time cost(s):0.091789\n",
      "Training with one sample finished\n",
      "***Predict result based on alexnet model***\n",
      "[0.08533674677453452, 0.08533674278351376, 0.08533674131754262, 0.08533674291349644, 0.08533674423814283, 0.2319693139185893, 0.08533674193099376, 0.08533674198648206, 0.0853367399324156, 0.08533674420428916]\n",
      "Training with one sample started\n",
      "   Procedure predict started\n",
      "      Forward calculation of layer 1 finished, time cost(s): 0.008453\n",
      "      Forward calculation of layer 2 finished, time cost(s): 0.000654\n",
      "      Forward calculation of layer 3 finished, time cost(s): 0.000772\n",
      "      Forward calculation of layer 4 finished, time cost(s): 5.40000000004e-05\n",
      "      Forward calculation of layer 5 finished, time cost(s): 2.70000000002e-05\n",
      "      Forward calculation of layer 6 finished, time cost(s): 2.99999999998e-05\n",
      "   Procedure predict finished, time cost(s):0.010182\n",
      "   Procedure delta calculation started\n",
      "      Delta calculation of layer 6 finished, time cost(s): 9.00000000037e-06\n",
      "      Delta calculation of layer 5 finished, time cost(s): 1.00000000005e-05\n",
      "      Delta calculation of layer 4 finished, time cost(s): 1.40000000002e-05\n",
      "      Delta calculation of layer 3 finished, time cost(s): 0.001044\n",
      "      Delta calculation of layer 2 finished, time cost(s): 0.000840999999999\n",
      "      Delta calculation of layer 1 finished, time cost(s): 0.433565\n",
      "   Procedure delta calculation finished, time cost(s):0.435703\n",
      "   Procedure weight update started\n",
      "      Weight update of layer 1 finished, time cost(s): 0.090163\n",
      "      Weight update of layer 2 finished, time cost(s): 2.00000000028e-06\n",
      "      Weight update of layer 3 finished, time cost(s): 9.99999999252e-07\n",
      "      Weight update of layer 4 finished, time cost(s): 2.39999999998e-05\n",
      "      Weight update of layer 5 finished, time cost(s): 1.00000000014e-06\n",
      "      Weight update of layer 6 finished, time cost(s): 1.19999999999e-05\n",
      "   Procedure weight update finished, time cost(s):0.09046\n",
      "Training with one sample finished\n",
      "***Predict result based on alexnet model***\n",
      "[0.06501412821931318, 0.06501412356816859, 0.06501412290842429, 0.06501412561684171, 0.06501412574921753, 0.4148728786489023, 0.06501412456808518, 0.06501412293207223, 0.06501412124122032, 0.06501412654775482]\n",
      "Training with one sample started\n",
      "   Procedure predict started\n",
      "      Forward calculation of layer 1 finished, time cost(s): 0.008223\n",
      "      Forward calculation of layer 2 finished, time cost(s): 0.000562\n",
      "      Forward calculation of layer 3 finished, time cost(s): 0.000679\n",
      "      Forward calculation of layer 4 finished, time cost(s): 2.90000000005e-05\n",
      "      Forward calculation of layer 5 finished, time cost(s): 1.9e-05\n",
      "      Forward calculation of layer 6 finished, time cost(s): 2.09999999994e-05\n",
      "   Procedure predict finished, time cost(s):0.00963\n",
      "   Procedure delta calculation started\n",
      "      Delta calculation of layer 6 finished, time cost(s): 7.00000000009e-06\n",
      "      Delta calculation of layer 5 finished, time cost(s): 8.00000000023e-06\n",
      "      Delta calculation of layer 4 finished, time cost(s): 1.10000000006e-05\n",
      "      Delta calculation of layer 3 finished, time cost(s): 0.000974\n",
      "      Delta calculation of layer 2 finished, time cost(s): 0.000762\n",
      "      Delta calculation of layer 1 finished, time cost(s): 0.433191\n",
      "   Procedure delta calculation finished, time cost(s):0.435137\n",
      "   Procedure weight update started\n",
      "      Weight update of layer 1 finished, time cost(s): 0.09379\n",
      "      Weight update of layer 2 finished, time cost(s): 2.99999999953e-06\n",
      "      Weight update of layer 3 finished, time cost(s): 1.00000000014e-06\n",
      "      Weight update of layer 4 finished, time cost(s): 3.09999999999e-05\n",
      "      Weight update of layer 5 finished, time cost(s): 2.00000000028e-06\n",
      "      Weight update of layer 6 finished, time cost(s): 1.40000000002e-05\n",
      "   Procedure weight update finished, time cost(s):0.094026\n",
      "Training with one sample finished\n",
      "***Predict result based on alexnet model***\n",
      "[0.04711355580696331, 0.04711355619871708, 0.04711355632322681, 0.04711355616386978, 0.04711355604853742, 0.5759779944444305, 0.04711355625471509, 0.04711355625656509, 0.04711355646154253, 0.04711355604143223]\n",
      "Training with one sample started\n",
      "   Procedure predict started\n",
      "      Forward calculation of layer 1 finished, time cost(s): 0.008438\n",
      "      Forward calculation of layer 2 finished, time cost(s): 0.000597\n",
      "      Forward calculation of layer 3 finished, time cost(s): 0.000693999999999\n",
      "      Forward calculation of layer 4 finished, time cost(s): 4.79999999996e-05\n",
      "      Forward calculation of layer 5 finished, time cost(s): 2.29999999997e-05\n",
      "      Forward calculation of layer 6 finished, time cost(s): 3.8e-05\n",
      "   Procedure predict finished, time cost(s):0.010002\n",
      "   Procedure delta calculation started\n",
      "      Delta calculation of layer 6 finished, time cost(s): 8.99999999948e-06\n",
      "      Delta calculation of layer 5 finished, time cost(s): 9.99999999962e-06\n",
      "      Delta calculation of layer 4 finished, time cost(s): 1.49999999994e-05\n",
      "      Delta calculation of layer 3 finished, time cost(s): 0.001006\n",
      "      Delta calculation of layer 2 finished, time cost(s): 0.000788\n",
      "      Delta calculation of layer 1 finished, time cost(s): 0.444904\n",
      "   Procedure delta calculation finished, time cost(s):0.446906\n",
      "   Procedure weight update started\n",
      "      Weight update of layer 1 finished, time cost(s): 0.093561\n",
      "      Weight update of layer 2 finished, time cost(s): 1.99999999939e-06\n",
      "      Weight update of layer 3 finished, time cost(s): 1.00000000014e-06\n",
      "      Weight update of layer 4 finished, time cost(s): 2.49999999999e-05\n",
      "      Weight update of layer 5 finished, time cost(s): 1.99999999939e-06\n",
      "      Weight update of layer 6 finished, time cost(s): 1.09999999998e-05\n",
      "   Procedure weight update finished, time cost(s):0.093855\n",
      "Training with one sample finished\n",
      "***Predict result based on alexnet model***\n",
      "[0.034986252475952724, 0.03498625277985006, 0.03498625286449639, 0.03498625272665816, 0.03498625265726192, 0.6851237252594142, 0.03498625279737382, 0.03498625282664801, 0.03498625297191368, 0.03498625264043126]\n",
      "Training with one sample started\n",
      "   Procedure predict started\n",
      "      Forward calculation of layer 1 finished, time cost(s): 0.008313\n",
      "      Forward calculation of layer 2 finished, time cost(s): 0.000581\n",
      "      Forward calculation of layer 3 finished, time cost(s): 0.000684\n",
      "      Forward calculation of layer 4 finished, time cost(s): 4.69999999995e-05\n",
      "      Forward calculation of layer 5 finished, time cost(s): 2.30000000006e-05\n",
      "      Forward calculation of layer 6 finished, time cost(s): 2.49999999999e-05\n",
      "   Procedure predict finished, time cost(s):0.009797\n",
      "   Procedure delta calculation started\n",
      "      Delta calculation of layer 6 finished, time cost(s): 7.99999999934e-06\n",
      "      Delta calculation of layer 5 finished, time cost(s): 9.00000000037e-06\n",
      "      Delta calculation of layer 4 finished, time cost(s): 1.09999999998e-05\n",
      "      Delta calculation of layer 3 finished, time cost(s): 0.000985\n",
      "      Delta calculation of layer 2 finished, time cost(s): 0.000767000000001\n",
      "      Delta calculation of layer 1 finished, time cost(s): 0.437272\n",
      "   Procedure delta calculation finished, time cost(s):0.439233\n",
      "   Procedure weight update started\n",
      "      Weight update of layer 1 finished, time cost(s): 0.091153\n",
      "      Weight update of layer 2 finished, time cost(s): 2.00000000028e-06\n",
      "      Weight update of layer 3 finished, time cost(s): 1.00000000014e-06\n",
      "      Weight update of layer 4 finished, time cost(s): 2.79999999995e-05\n",
      "      Weight update of layer 5 finished, time cost(s): 1.00000000014e-06\n",
      "      Weight update of layer 6 finished, time cost(s): 1.09999999998e-05\n",
      "   Procedure weight update finished, time cost(s):0.091364\n",
      "Training with one sample finished\n",
      "***Predict result based on alexnet model***\n",
      "[0.027184778941171474, 0.027184779169042328, 0.027184779232512543, 0.02718477912915753, 0.027184779077122256, 0.7553369876871198, 0.027184779182182144, 0.02718477920413276, 0.02718477931305708, 0.02718477906450215]\n"
     ]
    },
    {
     "data": {
      "image/png": "[encoded data removed]",
      "text/plain": [
       "<matplotlib.figure.Figure at 0x7f4d350dc3d0>"
      ]
     },
     "metadata": {},
     "output_type": "display_data"
    }
   ],
   "source": [
    "import sys\n",
    "sys.path.append(\"../\")\n",
    "import numpy as np\n",
    "from layers.conv_layer import ConvLayer\n",
    "from layers.conv_layer_hidden import ConvLayerHidden\n",
    "from layers.fc_layer import FcLayer\n",
    "from layers.lrn_layer import LrnLayer\n",
    "from layers.max_pooling_layer import MaxPoolingLayer\n",
    "from layers.softmax_layer import SoftmaxLayer\n",
    "from utils.sci_plotter import SciPlot\n",
    "\n",
    "from python.layers.dropout_layer import DropoutLayer\n",
    "from python.network.network import Network\n",
    "from python.utils.activator import ReluActivator as Relu\n",
    "if __name__ == '__main__':    \n",
    "    fake_image = np.random.uniform(0, 255, [3, 25, 25])\n",
    "    fake_label = np.zeros([10])\n",
    "    fake_label[5] = 1\n",
    "    net = Network()\n",
    "\n",
    "    sp = SciPlot('Curve of softmax output')\n",
    "    ConvLayer(net, 25, 25, 3, 11, 11, 48, 2, 4, Relu(), 0.05)\n",
    "    LrnLayer(net, 2, 0.0001, 5, 0.75)\n",
    "    MaxPoolingLayer(net, 3, 3, 2)\n",
    "\n",
    "    FcLayer(net, 5, Relu())\n",
    "    DropoutLayer(net,dropout_prob=0.5)\n",
    "    SoftmaxLayer(net, 10)\n",
    "\n",
    "    sp.plot(net.predict(fake_image, training=False), desc='episode-' + str(0))\n",
    "    for i in range(0, 5):\n",
    "        net.train_one_sample(fake_label, fake_image, 1)\n",
    "        sp.plot(net.predict(fake_image, training=False), desc='episode-'+str(i+1))\n",
    "\n",
    "    sp.show()"
   ]
  },
  {
   "cell_type": "markdown",
   "metadata": {},
   "source": [
    "## Performance optimization"
   ]
  },
  {
   "cell_type": "markdown",
   "metadata": {},
   "source": [
    "### Original performance of alexnet"
   ]
  },
  {
   "cell_type": "markdown",
   "metadata": {},
   "source": [
    "### Two ways of improve the performance"
   ]
  }
 ],
 "metadata": {
  "anaconda-cloud": {},
  "kernelspec": {
   "display_name": "Python [conda root]",
   "language": "python",
   "name": "conda-root-py"
  },
  "language_info": {
   "codemirror_mode": {
    "name": "ipython",
    "version": 2
   },
   "file_extension": ".py",
   "mimetype": "text/x-python",
   "name": "python",
   "nbconvert_exporter": "python",
   "pygments_lexer": "ipython2",
   "version": "2.7.12"
  }
 },
 "nbformat": 4,
 "nbformat_minor": 0
}
