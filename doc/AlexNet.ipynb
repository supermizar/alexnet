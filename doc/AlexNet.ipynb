{
 "cells": [
  {
   "cell_type": "markdown",
   "metadata": {},
   "source": [
    "# Selection question: AlexNet"
   ]
  },
  {
   "cell_type": "markdown",
   "metadata": {},
   "source": [
    "## Implementation and optimization of a convolutional neural network"
   ]
  },
  {
   "cell_type": "markdown",
   "metadata": {},
   "source": [
    "Implement a classic convolutional neural network: AlexNet. **Improve its efficiency as much as possible.** Your work will be evaluated by four aspects: *performance, algorithm design, software architecture and readability.*\n",
    "\n",
    "- Neural network should be implemented by hand, open source arch(Caffe, Tensorflow, Theano, Torch) should not be used directly.\n",
    "- Both inference and train algorithm should be constructed, performance should be well considered either.\n",
    "- Project deadline: 2016-12-25"
   ]
  },
  {
   "cell_type": "markdown",
   "metadata": {},
   "source": [
    "## Getting started"
   ]
  },
  {
   "cell_type": "markdown",
   "metadata": {},
   "source": [
    "To achieve a easy start, I copied some useful code from https://www.zybuluo.com/hanbingtao/note/476663 and https://www.zybuluo.com/hanbingtao/note/485480, code list:\n",
    "- class Layer, class Node, class ConstNode, class Connection\n",
    "- class ConvLayer\n",
    "\n",
    "With the codes above, we have the ability to:\n",
    "- Construct a full connection layer instance with class Layer, forward calculation function not included in those classes\n",
    "- Initialize a convolutional layer with class ConvLayer, including backpropagation algorithm and forward computation method\n",
    "\n",
    "To achieve the goal mentioned at beginning, there exists several works to be finished:\n",
    "- Design a network class, composing convolutional layer and full connection layer together. Both train and predict function should be implemented. \n",
    "- Optimize the training and predicting procedure, improve performance of the network. "
   ]
  },
  {
   "cell_type": "markdown",
   "metadata": {},
   "source": [
    "## Software architecture"
   ]
  },
  {
   "cell_type": "markdown",
   "metadata": {},
   "source": [
    "### Inversion of Control"
   ]
  },
  {
   "cell_type": "markdown",
   "metadata": {},
   "source": [
    "Before we design the network class, it might be wise to take a look at **alexnet.py** in tensorflow:"
   ]
  },
  {
   "cell_type": "code",
   "execution_count": null,
   "metadata": {
    "collapsed": true
   },
   "outputs": [],
   "source": [
    "net = slim.conv2d(inputs, 64, [11, 11], 4, padding='VALID',scope='conv1')\n",
    "net = slim.max_pool2d(net, [3, 3], 2, scope='pool1')\n",
    "net = slim.conv2d(net, 192, [5, 5], scope='conv2')\n",
    "net = slim.max_pool2d(net, [3, 3], 2, scope='pool2')\n",
    "net = slim.conv2d(net, 384, [3, 3], scope='conv3')\n",
    "net = slim.conv2d(net, 384, [3, 3], scope='conv4')\n",
    "net = slim.conv2d(net, 256, [3, 3], scope='conv5')\n",
    "net = slim.max_pool2d(net, [3, 3], 2, scope='pool5')"
   ]
  },
  {
   "cell_type": "markdown",
   "metadata": {},
   "source": []
  },
  {
   "cell_type": "markdown",
   "metadata": {},
   "source": [
    "## Performance"
   ]
  }
 ],
 "metadata": {
  "anaconda-cloud": {},
  "kernelspec": {
   "display_name": "Python [default]",
   "language": "python",
   "name": "python3"
  },
  "language_info": {
   "codemirror_mode": {
    "name": "ipython",
    "version": 3
   },
   "file_extension": ".py",
   "mimetype": "text/x-python",
   "name": "python",
   "nbconvert_exporter": "python",
   "pygments_lexer": "ipython3",
   "version": "3.5.2"
  }
 },
 "nbformat": 4,
 "nbformat_minor": 1
}
